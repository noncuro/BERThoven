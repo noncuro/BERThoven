{
  "nbformat": 4,
  "nbformat_minor": 0,
  "metadata": {
    "colab": {
      "name": "NLP CW using BERT.ipynb",
      "provenance": [],
      "collapsed_sections": [],
      "toc_visible": true,
      "machine_shape": "hm"
    },
    "kernelspec": {
      "name": "python3",
      "display_name": "Python 3"
    },
    "accelerator": "GPU"
  },
  "cells": [
    {
      "cell_type": "code",
      "metadata": {
        "id": "T7wcqPQtmXIL",
        "colab_type": "code",
        "colab": {}
      },
      "source": [
        "!wget https://competitions.codalab.org/my/datasets/download/c748d2c0-d6be-4e36-9f12-ca0e88819c4d -O files.zip\n",
        "!unzip files.zip\n",
        "!pip install transformers"
      ],
      "execution_count": 0,
      "outputs": []
    },
    {
      "cell_type": "code",
      "metadata": {
        "id": "QfUlxtrvmgT-",
        "colab_type": "code",
        "colab": {
          "base_uri": "https://localhost:8080/",
          "height": 62
        },
        "outputId": "2f962e91-a1ce-41bb-9e05-a05e154824b8"
      },
      "source": [
        "from daniel_lib import (tokenizer, import_file, pad, \n",
        "                        bert_model, get_tokenized, getDataLoader, \n",
        "                        removeOutliers, progress, get_sentence_embeddings, \n",
        "                        augment_dataset, BERThoven, check_accuracy, train_part, get_test_labels)\n",
        "from transformers import (AdamW,\n",
        "                          get_linear_schedule_with_warmup)\n",
        "import pandas as pd\n",
        "import torch\n",
        "from torch import nn\n",
        "import torch.nn.functional as F\n",
        "import numpy as np\n",
        "import scipy"
      ],
      "execution_count": 1,
      "outputs": [
        {
          "output_type": "display_data",
          "data": {
            "text/html": [
              "<p style=\"color: red;\">\n",
              "The default version of TensorFlow in Colab will soon switch to TensorFlow 2.x.<br>\n",
              "We recommend you <a href=\"https://www.tensorflow.org/guide/migrate\" target=\"_blank\">upgrade</a> now \n",
              "or ensure your notebook will continue to use TensorFlow 1.x via the <code>%tensorflow_version 1.x</code> magic:\n",
              "<a href=\"https://colab.research.google.com/notebooks/tensorflow_version.ipynb\" target=\"_blank\">more info</a>.</p>\n"
            ],
            "text/plain": [
              "<IPython.core.display.HTML object>"
            ]
          },
          "metadata": {
            "tags": []
          }
        }
      ]
    },
    {
      "cell_type": "code",
      "metadata": {
        "id": "uqb_sPmW2_YY",
        "colab_type": "code",
        "colab": {}
      },
      "source": [
        "USE_GPU = True\n",
        "\n",
        "if USE_GPU and torch.cuda.is_available():\n",
        "    device = torch.device('cuda')\n",
        "else:\n",
        "    device = torch.device('cpu')"
      ],
      "execution_count": 0,
      "outputs": []
    },
    {
      "cell_type": "code",
      "metadata": {
        "id": "PnhFsNB4ec9n",
        "colab_type": "code",
        "colab": {}
      },
      "source": [
        "train_df = import_file(\"train\")\n",
        "dev_df = import_file(\"dev\")\n",
        "test_df = import_file(\"test\")\n",
        "\n",
        "dataLoader_train = getDataLoader(train_df)\n",
        "dataLoader_dev = getDataLoader(dev_df)\n",
        "dataLoader_test = getDataLoader(test_df,test=True)"
      ],
      "execution_count": 0,
      "outputs": []
    },
    {
      "cell_type": "code",
      "metadata": {
        "id": "bhcNsLBeSO_r",
        "colab_type": "code",
        "colab": {}
      },
      "source": [
        "train_df_aug = augment_dataset(train_df, \n",
        "                            lambda score: score<-1,\n",
        "                            lambda score: score<-0.3, \n",
        "                            lambda score: score>0.55, \n",
        "                            lambda score: score>1, \n",
        "                            lambda score: score>1.3)\n",
        "dataLoader_train_aug = getDataLoader(train_df_aug)"
      ],
      "execution_count": 0,
      "outputs": []
    },
    {
      "cell_type": "code",
      "metadata": {
        "id": "uNfi-r_KUMYi",
        "colab_type": "code",
        "colab": {}
      },
      "source": [
        "# print(train_df2.shape)\n",
        "# plt.subplot(2,1,1)\n",
        "# train_df.scores.hist(bins=100)\n",
        "# plt.subplot(2,1,2)\n",
        "# train_df2.scores.hist(bins=100)\n",
        "# print(train_df.scores.mean(), train_df2.scores.mean())\n",
        "# print(train_df.scores.var(), train_df2.scores.var())\n",
        "\n",
        "# train_df[train_df.src == train_df.mt]\n",
        "# train_df[train_df.scores>0.5]\n",
        "# train_df.scores.hist(bins=100)"
      ],
      "execution_count": 0,
      "outputs": []
    },
    {
      "cell_type": "code",
      "metadata": {
        "id": "KGEdwg18Jc6D",
        "colab_type": "code",
        "colab": {}
      },
      "source": [
        "nlp_model = BERThoven(bert_model)\n",
        "# nlp_model.load_state_dict(torch.load(\"nlp_model.pt\"))\n",
        "check_accuracy(dataLoader_dev,nlp_model,device=device)"
      ],
      "execution_count": 0,
      "outputs": []
    },
    {
      "cell_type": "code",
      "metadata": {
        "id": "wY1_hfQOkjKG",
        "colab_type": "code",
        "colab": {
          "base_uri": "https://localhost:8080/",
          "height": 67
        },
        "outputId": "e99a6c27-6375-4625-be47-9c719ecd2c68"
      },
      "source": [
        "epochs = 10\n",
        "warmup_proportion = 0.1\n",
        "\n",
        "loss_function = F.l1_loss\n",
        "print_every=75\n",
        "\n",
        "steps_per_epoch = len(dataLoader_train_aug)\n",
        "training_steps = steps_per_epoch*epochs\n",
        "warmup_steps = int(training_steps*warmup_proportion)\n",
        "\n",
        "\n",
        "optimizer = AdamW(nlp_model.parameters(), lr=1e-6,eps=1e-9, correct_bias=False)\n",
        "scheduler = get_linear_schedule_with_warmup(optimizer, num_warmup_steps=warmup_steps, num_training_steps=training_steps)\n",
        "\n",
        "train_part(nlp_model, dataLoader_train_aug, optimizer,scheduler, \n",
        "           val_loader=dataLoader_dev, \n",
        "           epochs=epochs-2, \n",
        "           print_every=print_every, \n",
        "           loss_function=loss_function, \n",
        "           device=device)\n",
        "train_part(nlp_model, dataLoader_train_aug, optimizer, scheduler, \n",
        "           val_loader=dataLoader_dev, \n",
        "           epochs=2, \n",
        "           print_every=print_every, \n",
        "           loss_function=loss_function, \n",
        "           device=device)"
      ],
      "execution_count": 0,
      "outputs": [
        {
          "output_type": "stream",
          "text": [
            "Iterations per epoch:308\n",
            "\n",
            "Epoch: 0, Iteration 0, loss = 0.8352, avg_loss = 0.9918..........................................................................."
          ],
          "name": "stdout"
        }
      ]
    },
    {
      "cell_type": "code",
      "metadata": {
        "id": "F77FuGA5Hoqq",
        "colab_type": "code",
        "outputId": "61307874-5410-4a5a-9d8a-f54d4624af0f",
        "colab": {
          "base_uri": "https://localhost:8080/",
          "height": 314
        }
      },
      "source": [
        "# check_accuracy(dataLoader_dev,nlp_model)\n",
        "\n",
        "# def writeScores(scores):\n",
        "#     fn = \"predictions.txt\"\n",
        "#     print(\"\")\n",
        "#     with open(fn, 'w') as output_file:\n",
        "#         for x in scores:\n",
        "#             output_file.write(f\"{x}\\n\")\n",
        "# p.hist()\n",
        "# dev_df.hist()\n",
        "labels=get_test_labels(dataLoader_test, nlp_model)\n",
        "p=pd.DataFrame(labels)#.hist()\n",
        "# p.head()\n",
        "p.hist()"
      ],
      "execution_count": 15,
      "outputs": [
        {
          "output_type": "execute_result",
          "data": {
            "text/plain": [
              "array([[<matplotlib.axes._subplots.AxesSubplot object at 0x7f52b5a05b70>]],\n",
              "      dtype=object)"
            ]
          },
          "metadata": {
            "tags": []
          },
          "execution_count": 15
        },
        {
          "output_type": "display_data",
          "data": {
            "image/png": "[encoded data removed]",
            "text/plain": [
              "<Figure size 432x288 with 1 Axes>"
            ]
          },
          "metadata": {
            "tags": []
          }
        }
      ]
    },
    {
      "cell_type": "markdown",
      "metadata": {
        "id": "EQ1Loyz7-sfu",
        "colab_type": "text"
      },
      "source": [
        "### Try using only embeddings"
      ]
    },
    {
      "cell_type": "code",
      "metadata": {
        "id": "zFcvY8OS_3PL",
        "colab_type": "code",
        "colab": {}
      },
      "source": [
        "class LinearModel(nn.Module):\n",
        "    def __init__(self):\n",
        "        super(LinearModel, self).__init__()\n",
        "        self.lin_layer1 = nn.Linear(768*2, 1000)\n",
        "        self.relu1 = nn.LeakyReLU()\n",
        "        self.lin_layer2 = nn.Linear(1000, 1000)\n",
        "        self.relu2 = nn.LeakyReLU()\n",
        "        self.lin_layer3 = nn.Linear(1000, 1)\n",
        "\n",
        "\n",
        "    def forward(self, x1, x2):\n",
        "        inp = torch.cat((x1,x2),1)\n",
        "        out1 = self.relu1(self.lin_layer1(inp))\n",
        "        out2 = self.relu2(self.lin_layer2(out1))\n",
        "        out3 = self.lin_layer3(out2)\n",
        "        return out3.squeeze()"
      ],
      "execution_count": 0,
      "outputs": []
    },
    {
      "cell_type": "code",
      "metadata": {
        "id": "ZuepURln_n-o",
        "colab_type": "code",
        "colab": {}
      },
      "source": [
        "print_every=500\n",
        "def train_linear_model(model, dataloader, dataloader_val, optimizer, scheduler, epochs=1,max_grad_norm=1.0):\n",
        "\n",
        "    avg_loss = 1;\n",
        "    momentum = 0.01;\n",
        "\n",
        "    model = model.to(device=device)  # move the model parameters to CPU/GPU\n",
        "    for e in range(epochs):\n",
        "        print(f\"Iterations per epoch:{len(dataloader)}\")\n",
        "        for t, ((x1,x2),y) in enumerate(dataloader):\n",
        "            model.train()  # put model to training mode\n",
        "            y = y.to(device=device, dtype=torch.float32)\n",
        "\n",
        "            scores = model(x1,x2)\n",
        "            \n",
        "            loss = F.mse_loss(scores, y)\n",
        "            \n",
        "            optimizer.zero_grad()\n",
        "            \n",
        "            loss.backward()\n",
        "            \n",
        "            torch.nn.utils.clip_grad_norm_(model.parameters(), max_grad_norm)\n",
        "            optimizer.step()\n",
        "\n",
        "            scheduler.step()\n",
        "            l=loss.item()\n",
        "\n",
        "            avg_loss = l*momentum + avg_loss*(1-momentum)\n",
        "\n",
        "            if t % print_every == 0:\n",
        "                print()\n",
        "                print('Epoch: %d, Iteration %d, loss = %.4f, avg_loss = %.4f' % (e, t, l,avg_loss), end=\"\")\n",
        "            print(\".\",end=\"\")\n",
        "        print()\n",
        "        print(\"Avg loss %.3f\" % (avg_loss))\n",
        "        print(\"Checking accuracy on dev:\")\n",
        "        check_accuracy_linear(dataloader_val, model)\n",
        "        # print(\"Saving the model.\")\n",
        "        # torch.save(model.state_dict(), 'nlp_model.pt')\n",
        "\n",
        "def check_accuracy_linear(loader, model, max_sample_size=None):\n",
        "    model = model.to(device=device)\n",
        "    num_correct = 0\n",
        "    num_samples = 0\n",
        "    model.eval()  # set model to evaluation mode\n",
        "    abs_error = 0\n",
        "    sqr_error = 0;\n",
        "    \n",
        "    with torch.no_grad():\n",
        "        for (x1, x2), y in loader:\n",
        "            y = y.to(device=device, dtype=torch.float32)\n",
        "            scores = model.forward(x1,x2)\n",
        "            abs_error += (scores - y).abs().sum()\n",
        "            sqr_error += ((scores - y)**2).sum()\n",
        "            num_samples += scores.size(0)\n",
        "            if(max_sample_size!=None and num_samples>=num_samples):\n",
        "              break;\n",
        "        mse = sqr_error/num_samples\n",
        "        mae = abs_error/num_samples\n",
        "        print('Mean Absolute Error: %.3f, Mean Squared Error %.3f' % (mse, mae))"
      ],
      "execution_count": 0,
      "outputs": []
    },
    {
      "cell_type": "code",
      "metadata": {
        "id": "FpURB-p4AtWI",
        "colab_type": "code",
        "colab": {}
      },
      "source": [
        "train_embeddings = get_sentence_embeddings(train_df,bert_model)\n",
        "val_embeddings = get_sentence_embeddings(dev_df,bert_model)"
      ],
      "execution_count": 0,
      "outputs": []
    },
    {
      "cell_type": "code",
      "metadata": {
        "id": "qRzPx4rGAq2V",
        "colab_type": "code",
        "colab": {}
      },
      "source": [
        "epochs = 10\n",
        "warmup_proportion = 0.1\n",
        "\n",
        "steps_per_epoch = len(train_embeddings)\n",
        "training_steps = steps_per_epoch*epochs\n",
        "warmup_steps = int(training_steps*warmup_proportion)\n",
        "\n",
        "linear_model=LinearModel()\n",
        "\n",
        "optimizer = AdamW(linear_model.parameters(), lr=1e-5)\n",
        "scheduler = get_linear_schedule_with_warmup(optimizer, num_warmup_steps=warmup_steps, num_training_steps=training_steps)\n",
        "\n",
        "train_linear_model(linear_model, train_embeddings,val_embeddings,optimizer,scheduler, epochs=epochs)"
      ],
      "execution_count": 0,
      "outputs": []
    }
  ]
}