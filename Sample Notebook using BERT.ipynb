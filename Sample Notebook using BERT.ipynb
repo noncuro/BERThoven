{
  "nbformat": 4,
  "nbformat_minor": 0,
  "metadata": {
    "colab": {
      "name": "Sample Notebook using BERT.ipynb",
      "provenance": [],
      "collapsed_sections": [],
      "toc_visible": true
    },
    "kernelspec": {
      "name": "python3",
      "display_name": "Python 3"
    },
    "accelerator": "GPU",
    "widgets": {
      "application/vnd.jupyter.widget-state+json": {
        "e5de15ca140645b4abbaf0c2a12f3381": {
          "model_module": "@jupyter-widgets/controls",
          "model_name": "HBoxModel",
          "state": {
            "_view_name": "HBoxView",
            "_dom_classes": [],
            "_model_name": "HBoxModel",
            "_view_module": "@jupyter-widgets/controls",
            "_model_module_version": "1.5.0",
            "_view_count": null,
            "_view_module_version": "1.5.0",
            "box_style": "",
            "layout": "IPY_MODEL_d5ccf719c7c041dcb5e8b9a4cb8a9024",
            "_model_module": "@jupyter-widgets/controls",
            "children": [
              "IPY_MODEL_ffeb4ae4818241e8acd0b0c54ccb963f",
              "IPY_MODEL_8035e6181cc5472399d7bc6b98cec469"
            ]
          }
        },
        "d5ccf719c7c041dcb5e8b9a4cb8a9024": {
          "model_module": "@jupyter-widgets/base",
          "model_name": "LayoutModel",
          "state": {
            "_view_name": "LayoutView",
            "grid_template_rows": null,
            "right": null,
            "justify_content": null,
            "_view_module": "@jupyter-widgets/base",
            "overflow": null,
            "_model_module_version": "1.2.0",
            "_view_count": null,
            "flex_flow": null,
            "width": null,
            "min_width": null,
            "border": null,
            "align_items": null,
            "bottom": null,
            "_model_module": "@jupyter-widgets/base",
            "top": null,
            "grid_column": null,
            "overflow_y": null,
            "overflow_x": null,
            "grid_auto_flow": null,
            "grid_area": null,
            "grid_template_columns": null,
            "flex": null,
            "_model_name": "LayoutModel",
            "justify_items": null,
            "grid_row": null,
            "max_height": null,
            "align_content": null,
            "visibility": null,
            "align_self": null,
            "height": null,
            "min_height": null,
            "padding": null,
            "grid_auto_rows": null,
            "grid_gap": null,
            "max_width": null,
            "order": null,
            "_view_module_version": "1.2.0",
            "grid_template_areas": null,
            "object_position": null,
            "object_fit": null,
            "grid_auto_columns": null,
            "margin": null,
            "display": null,
            "left": null
          }
        },
        "ffeb4ae4818241e8acd0b0c54ccb963f": {
          "model_module": "@jupyter-widgets/controls",
          "model_name": "IntProgressModel",
          "state": {
            "_view_name": "ProgressView",
            "style": "IPY_MODEL_1f56c0db615c410ba2b8b21d54fae552",
            "_dom_classes": [],
            "description": "Downloading",
            "_model_name": "IntProgressModel",
            "bar_style": "success",
            "max": 569,
            "_view_module": "@jupyter-widgets/controls",
            "_model_module_version": "1.5.0",
            "value": 569,
            "_view_count": null,
            "_view_module_version": "1.5.0",
            "orientation": "horizontal",
            "min": 0,
            "description_tooltip": null,
            "_model_module": "@jupyter-widgets/controls",
            "layout": "IPY_MODEL_89485a19f8ba4546be59ac0d7050d8e9"
          }
        },
        "8035e6181cc5472399d7bc6b98cec469": {
          "model_module": "@jupyter-widgets/controls",
          "model_name": "HTMLModel",
          "state": {
            "_view_name": "HTMLView",
            "style": "IPY_MODEL_88ba7685da0849d49042e3de77ca0d6a",
            "_dom_classes": [],
            "description": "",
            "_model_name": "HTMLModel",
            "placeholder": "​",
            "_view_module": "@jupyter-widgets/controls",
            "_model_module_version": "1.5.0",
            "value": "100% 569/569 [00:00&lt;00:00, 16.5kB/s]",
            "_view_count": null,
            "_view_module_version": "1.5.0",
            "description_tooltip": null,
            "_model_module": "@jupyter-widgets/controls",
            "layout": "IPY_MODEL_59f71b69b278489ba4b1f463896c4fda"
          }
        },
        "1f56c0db615c410ba2b8b21d54fae552": {
          "model_module": "@jupyter-widgets/controls",
          "model_name": "ProgressStyleModel",
          "state": {
            "_view_name": "StyleView",
            "_model_name": "ProgressStyleModel",
            "description_width": "initial",
            "_view_module": "@jupyter-widgets/base",
            "_model_module_version": "1.5.0",
            "_view_count": null,
            "_view_module_version": "1.2.0",
            "bar_color": null,
            "_model_module": "@jupyter-widgets/controls"
          }
        },
        "89485a19f8ba4546be59ac0d7050d8e9": {
          "model_module": "@jupyter-widgets/base",
          "model_name": "LayoutModel",
          "state": {
            "_view_name": "LayoutView",
            "grid_template_rows": null,
            "right": null,
            "justify_content": null,
            "_view_module": "@jupyter-widgets/base",
            "overflow": null,
            "_model_module_version": "1.2.0",
            "_view_count": null,
            "flex_flow": null,
            "width": null,
            "min_width": null,
            "border": null,
            "align_items": null,
            "bottom": null,
            "_model_module": "@jupyter-widgets/base",
            "top": null,
            "grid_column": null,
            "overflow_y": null,
            "overflow_x": null,
            "grid_auto_flow": null,
            "grid_area": null,
            "grid_template_columns": null,
            "flex": null,
            "_model_name": "LayoutModel",
            "justify_items": null,
            "grid_row": null,
            "max_height": null,
            "align_content": null,
            "visibility": null,
            "align_self": null,
            "height": null,
            "min_height": null,
            "padding": null,
            "grid_auto_rows": null,
            "grid_gap": null,
            "max_width": null,
            "order": null,
            "_view_module_version": "1.2.0",
            "grid_template_areas": null,
            "object_position": null,
            "object_fit": null,
            "grid_auto_columns": null,
            "margin": null,
            "display": null,
            "left": null
          }
        },
        "88ba7685da0849d49042e3de77ca0d6a": {
          "model_module": "@jupyter-widgets/controls",
          "model_name": "DescriptionStyleModel",
          "state": {
            "_view_name": "StyleView",
            "_model_name": "DescriptionStyleModel",
            "description_width": "",
            "_view_module": "@jupyter-widgets/base",
            "_model_module_version": "1.5.0",
            "_view_count": null,
            "_view_module_version": "1.2.0",
            "_model_module": "@jupyter-widgets/controls"
          }
        },
        "59f71b69b278489ba4b1f463896c4fda": {
          "model_module": "@jupyter-widgets/base",
          "model_name": "LayoutModel",
          "state": {
            "_view_name": "LayoutView",
            "grid_template_rows": null,
            "right": null,
            "justify_content": null,
            "_view_module": "@jupyter-widgets/base",
            "overflow": null,
            "_model_module_version": "1.2.0",
            "_view_count": null,
            "flex_flow": null,
            "width": null,
            "min_width": null,
            "border": null,
            "align_items": null,
            "bottom": null,
            "_model_module": "@jupyter-widgets/base",
            "top": null,
            "grid_column": null,
            "overflow_y": null,
            "overflow_x": null,
            "grid_auto_flow": null,
            "grid_area": null,
            "grid_template_columns": null,
            "flex": null,
            "_model_name": "LayoutModel",
            "justify_items": null,
            "grid_row": null,
            "max_height": null,
            "align_content": null,
            "visibility": null,
            "align_self": null,
            "height": null,
            "min_height": null,
            "padding": null,
            "grid_auto_rows": null,
            "grid_gap": null,
            "max_width": null,
            "order": null,
            "_view_module_version": "1.2.0",
            "grid_template_areas": null,
            "object_position": null,
            "object_fit": null,
            "grid_auto_columns": null,
            "margin": null,
            "display": null,
            "left": null
          }
        },
        "64a3f9f45a5a4f62b78ad27220db5dbe": {
          "model_module": "@jupyter-widgets/controls",
          "model_name": "HBoxModel",
          "state": {
            "_view_name": "HBoxView",
            "_dom_classes": [],
            "_model_name": "HBoxModel",
            "_view_module": "@jupyter-widgets/controls",
            "_model_module_version": "1.5.0",
            "_view_count": null,
            "_view_module_version": "1.5.0",
            "box_style": "",
            "layout": "IPY_MODEL_10a0ee9e35fc4f96aac87a585bb40567",
            "_model_module": "@jupyter-widgets/controls",
            "children": [
              "IPY_MODEL_9c84d56451e543ffaa2f5c41386972f7",
              "IPY_MODEL_61b3bff1f1d547669e70dac2a456609e"
            ]
          }
        },
        "10a0ee9e35fc4f96aac87a585bb40567": {
          "model_module": "@jupyter-widgets/base",
          "model_name": "LayoutModel",
          "state": {
            "_view_name": "LayoutView",
            "grid_template_rows": null,
            "right": null,
            "justify_content": null,
            "_view_module": "@jupyter-widgets/base",
            "overflow": null,
            "_model_module_version": "1.2.0",
            "_view_count": null,
            "flex_flow": null,
            "width": null,
            "min_width": null,
            "border": null,
            "align_items": null,
            "bottom": null,
            "_model_module": "@jupyter-widgets/base",
            "top": null,
            "grid_column": null,
            "overflow_y": null,
            "overflow_x": null,
            "grid_auto_flow": null,
            "grid_area": null,
            "grid_template_columns": null,
            "flex": null,
            "_model_name": "LayoutModel",
            "justify_items": null,
            "grid_row": null,
            "max_height": null,
            "align_content": null,
            "visibility": null,
            "align_self": null,
            "height": null,
            "min_height": null,
            "padding": null,
            "grid_auto_rows": null,
            "grid_gap": null,
            "max_width": null,
            "order": null,
            "_view_module_version": "1.2.0",
            "grid_template_areas": null,
            "object_position": null,
            "object_fit": null,
            "grid_auto_columns": null,
            "margin": null,
            "display": null,
            "left": null
          }
        },
        "9c84d56451e543ffaa2f5c41386972f7": {
          "model_module": "@jupyter-widgets/controls",
          "model_name": "IntProgressModel",
          "state": {
            "_view_name": "ProgressView",
            "style": "IPY_MODEL_55dc235d3ed04e748dfddc9ce5a61fab",
            "_dom_classes": [],
            "description": "Downloading",
            "_model_name": "IntProgressModel",
            "bar_style": "success",
            "max": 995526,
            "_view_module": "@jupyter-widgets/controls",
            "_model_module_version": "1.5.0",
            "value": 995526,
            "_view_count": null,
            "_view_module_version": "1.5.0",
            "orientation": "horizontal",
            "min": 0,
            "description_tooltip": null,
            "_model_module": "@jupyter-widgets/controls",
            "layout": "IPY_MODEL_3e557fd7c64a495ca2e80414918af147"
          }
        },
        "61b3bff1f1d547669e70dac2a456609e": {
          "model_module": "@jupyter-widgets/controls",
          "model_name": "HTMLModel",
          "state": {
            "_view_name": "HTMLView",
            "style": "IPY_MODEL_7aaac589c3b143449ab408f890e0eb6b",
            "_dom_classes": [],
            "description": "",
            "_model_name": "HTMLModel",
            "placeholder": "​",
            "_view_module": "@jupyter-widgets/controls",
            "_model_module_version": "1.5.0",
            "value": "100% 996k/996k [00:00&lt;00:00, 2.51MB/s]",
            "_view_count": null,
            "_view_module_version": "1.5.0",
            "description_tooltip": null,
            "_model_module": "@jupyter-widgets/controls",
            "layout": "IPY_MODEL_d672739e2d024981bbe604b6ee88e6d3"
          }
        },
        "55dc235d3ed04e748dfddc9ce5a61fab": {
          "model_module": "@jupyter-widgets/controls",
          "model_name": "ProgressStyleModel",
          "state": {
            "_view_name": "StyleView",
            "_model_name": "ProgressStyleModel",
            "description_width": "initial",
            "_view_module": "@jupyter-widgets/base",
            "_model_module_version": "1.5.0",
            "_view_count": null,
            "_view_module_version": "1.2.0",
            "bar_color": null,
            "_model_module": "@jupyter-widgets/controls"
          }
        },
        "3e557fd7c64a495ca2e80414918af147": {
          "model_module": "@jupyter-widgets/base",
          "model_name": "LayoutModel",
          "state": {
            "_view_name": "LayoutView",
            "grid_template_rows": null,
            "right": null,
            "justify_content": null,
            "_view_module": "@jupyter-widgets/base",
            "overflow": null,
            "_model_module_version": "1.2.0",
            "_view_count": null,
            "flex_flow": null,
            "width": null,
            "min_width": null,
            "border": null,
            "align_items": null,
            "bottom": null,
            "_model_module": "@jupyter-widgets/base",
            "top": null,
            "grid_column": null,
            "overflow_y": null,
            "overflow_x": null,
            "grid_auto_flow": null,
            "grid_area": null,
            "grid_template_columns": null,
            "flex": null,
            "_model_name": "LayoutModel",
            "justify_items": null,
            "grid_row": null,
            "max_height": null,
            "align_content": null,
            "visibility": null,
            "align_self": null,
            "height": null,
            "min_height": null,
            "padding": null,
            "grid_auto_rows": null,
            "grid_gap": null,
            "max_width": null,
            "order": null,
            "_view_module_version": "1.2.0",
            "grid_template_areas": null,
            "object_position": null,
            "object_fit": null,
            "grid_auto_columns": null,
            "margin": null,
            "display": null,
            "left": null
          }
        },
        "7aaac589c3b143449ab408f890e0eb6b": {
          "model_module": "@jupyter-widgets/controls",
          "model_name": "DescriptionStyleModel",
          "state": {
            "_view_name": "StyleView",
            "_model_name": "DescriptionStyleModel",
            "description_width": "",
            "_view_module": "@jupyter-widgets/base",
            "_model_module_version": "1.5.0",
            "_view_count": null,
            "_view_module_version": "1.2.0",
            "_model_module": "@jupyter-widgets/controls"
          }
        },
        "d672739e2d024981bbe604b6ee88e6d3": {
          "model_module": "@jupyter-widgets/base",
          "model_name": "LayoutModel",
          "state": {
            "_view_name": "LayoutView",
            "grid_template_rows": null,
            "right": null,
            "justify_content": null,
            "_view_module": "@jupyter-widgets/base",
            "overflow": null,
            "_model_module_version": "1.2.0",
            "_view_count": null,
            "flex_flow": null,
            "width": null,
            "min_width": null,
            "border": null,
            "align_items": null,
            "bottom": null,
            "_model_module": "@jupyter-widgets/base",
            "top": null,
            "grid_column": null,
            "overflow_y": null,
            "overflow_x": null,
            "grid_auto_flow": null,
            "grid_area": null,
            "grid_template_columns": null,
            "flex": null,
            "_model_name": "LayoutModel",
            "justify_items": null,
            "grid_row": null,
            "max_height": null,
            "align_content": null,
            "visibility": null,
            "align_self": null,
            "height": null,
            "min_height": null,
            "padding": null,
            "grid_auto_rows": null,
            "grid_gap": null,
            "max_width": null,
            "order": null,
            "_view_module_version": "1.2.0",
            "grid_template_areas": null,
            "object_position": null,
            "object_fit": null,
            "grid_auto_columns": null,
            "margin": null,
            "display": null,
            "left": null
          }
        }
      }
    }
  },
  "cells": [
    {
      "cell_type": "markdown",
      "metadata": {
        "id": "TPswTE8BaNmT",
        "colab_type": "text"
      },
      "source": [
        "This notebook will run through an example, training a model for the translation task by fine-tuning BERT. To start, connect to a GPU runtime.\n",
        "\n",
        "\n",
        "Find this on colab at https://colab.research.google.com/github/noncuro/BERThoven/blob/master/Sample%20Notebook%20using%20BERT.ipynb"
      ]
    },
    {
      "cell_type": "code",
      "metadata": {
        "id": "DIikM_xdFWEf",
        "colab_type": "code",
        "colab": {}
      },
      "source": [
        "!git clone https://github.com/noncuro/BERThoven.git\n",
        "%cd BERThoven"
      ],
      "execution_count": 0,
      "outputs": []
    },
    {
      "cell_type": "code",
      "metadata": {
        "id": "T7wcqPQtmXIL",
        "colab_type": "code",
        "colab": {}
      },
      "source": [
        "# Run this only once\n",
        "\n",
        "!wget https://competitions.codalab.org/my/datasets/download/c748d2c0-d6be-4e36-9f12-ca0e88819c4d -O files.zip\n",
        "!unzip files.zip\n",
        "!pip install transformers"
      ],
      "execution_count": 0,
      "outputs": []
    },
    {
      "cell_type": "code",
      "metadata": {
        "id": "QfUlxtrvmgT-",
        "colab_type": "code",
        "outputId": "340978ad-f2ab-4e57-a397-c07e7d108969",
        "colab": {
          "base_uri": "https://localhost:8080/",
          "height": 114,
          "referenced_widgets": [
            "e5de15ca140645b4abbaf0c2a12f3381",
            "d5ccf719c7c041dcb5e8b9a4cb8a9024",
            "ffeb4ae4818241e8acd0b0c54ccb963f",
            "8035e6181cc5472399d7bc6b98cec469",
            "1f56c0db615c410ba2b8b21d54fae552",
            "89485a19f8ba4546be59ac0d7050d8e9",
            "88ba7685da0849d49042e3de77ca0d6a",
            "59f71b69b278489ba4b1f463896c4fda",
            "64a3f9f45a5a4f62b78ad27220db5dbe",
            "10a0ee9e35fc4f96aac87a585bb40567",
            "9c84d56451e543ffaa2f5c41386972f7",
            "61b3bff1f1d547669e70dac2a456609e",
            "55dc235d3ed04e748dfddc9ce5a61fab",
            "3e557fd7c64a495ca2e80414918af147",
            "7aaac589c3b143449ab408f890e0eb6b",
            "d672739e2d024981bbe604b6ee88e6d3"
          ]
        }
      },
      "source": [
        "from bert_lib import * \n",
        "from tqdm import tqdm_notebook as tqdm\n",
        "import transformers\n",
        "from transformers import (AdamW,\n",
        "                          get_linear_schedule_with_warmup,get_constant_schedule_with_warmup)\n",
        "import matplotlib.pyplot as plt\n",
        "import pandas as pd\n",
        "import numpy as np\n",
        "\n",
        "import torch\n",
        "from torch import nn\n",
        "import torch.nn.functional as F\n",
        "\n",
        "import scipy\n",
        "import time\n",
        "import sklearn\n",
        "from sklearn import preprocessing, pipeline"
      ],
      "execution_count": 0,
      "outputs": [
        {
          "output_type": "display_data",
          "data": {
            "application/vnd.jupyter.widget-view+json": {
              "model_id": "e5de15ca140645b4abbaf0c2a12f3381",
              "version_minor": 0,
              "version_major": 2
            },
            "text/plain": [
              "HBox(children=(IntProgress(value=0, description='Downloading', max=569, style=ProgressStyle(description_width=…"
            ]
          },
          "metadata": {
            "tags": []
          }
        },
        {
          "output_type": "stream",
          "text": [
            "\n"
          ],
          "name": "stdout"
        },
        {
          "output_type": "display_data",
          "data": {
            "application/vnd.jupyter.widget-view+json": {
              "model_id": "64a3f9f45a5a4f62b78ad27220db5dbe",
              "version_minor": 0,
              "version_major": 2
            },
            "text/plain": [
              "HBox(children=(IntProgress(value=0, description='Downloading', max=995526, style=ProgressStyle(description_wid…"
            ]
          },
          "metadata": {
            "tags": []
          }
        },
        {
          "output_type": "stream",
          "text": [
            "\n"
          ],
          "name": "stdout"
        }
      ]
    },
    {
      "cell_type": "code",
      "metadata": {
        "id": "uqb_sPmW2_YY",
        "colab_type": "code",
        "colab": {}
      },
      "source": [
        "USE_GPU = True\n",
        "\n",
        "if USE_GPU and torch.cuda.is_available():\n",
        "    device = torch.device('cuda')\n",
        "else:\n",
        "    raise RuntimeError(\"We reaaaaaally recommend you use a GPU...\")"
      ],
      "execution_count": 0,
      "outputs": []
    },
    {
      "cell_type": "code",
      "metadata": {
        "id": "PnhFsNB4ec9n",
        "colab_type": "code",
        "colab": {}
      },
      "source": [
        "train_df, dev_df = import_train_dev(1/8)\n",
        "test_df = import_file(\"test\")\n",
        "\n",
        "score_preprocessor = sklearn.pipeline.make_pipeline(\n",
        "    # More preprocessing steps, to be applied to scores, can go here.\n",
        "    preprocessing.MinMaxScaler()\n",
        ")\n",
        "\n",
        "# We start with a data loader that runs with just the original dataset\n",
        "data_loader_train = get_data_loader(train_df, batch_size=32, preprocessor=score_preprocessor, fit=True)\n",
        "data_loader_dev = get_data_loader(dev_df, batch_size=32, preprocessor=score_preprocessor)\n",
        "data_loader_test = get_data_loader(test_df, batch_size=32, test=True, preprocessor=score_preprocessor)"
      ],
      "execution_count": 0,
      "outputs": []
    },
    {
      "cell_type": "code",
      "metadata": {
        "id": "N95QiSaHJ_qY",
        "colab_type": "code",
        "colab": {}
      },
      "source": [
        "train_df_without_sames = train_df[train_df.src != train_df.mt]\n",
        "q1 = train_df.scores.quantile(0.25)\n",
        "q3 = train_df.scores.quantile(0.75)\n",
        "\n",
        "# Create a dataloader that upsamples outliers\n",
        "train_df_upsampling = augment_dataset(train_df_without_sames, \n",
        "                            lambda score: score<q1, \n",
        "                            lambda score: score>q3)\n",
        "data_loader_train_upsampled = get_data_loader(train_df_upsampling, batch_size=32,preprocessor=score_preprocessor)"
      ],
      "execution_count": 0,
      "outputs": []
    },
    {
      "cell_type": "code",
      "metadata": {
        "id": "Po9zrBTQcW9P",
        "colab_type": "code",
        "colab": {}
      },
      "source": [
        "\n",
        "# A dataloader that removes outliers:\n",
        "# iqr = q3-q1\n",
        "# train_df_downsampling = train_df_without_sames[train_df_without_sames.scores>q1-3*iqr]\n",
        "# data_loader_train_downsampled = get_data_loader(train_df_downsampling, batch_size=32,preprocessor=score_preprocessor)"
      ],
      "execution_count": 0,
      "outputs": []
    },
    {
      "cell_type": "code",
      "metadata": {
        "id": "ZJqSkkg8cXo7",
        "colab_type": "code",
        "colab": {}
      },
      "source": [
        "# A dataloader that with added masks:\n",
        "\n",
        "data_loader_train_masked = get_data_loader_masked(train_df_without_sames, batch_size=32, preprocessor=score_preprocessor,)"
      ],
      "execution_count": 0,
      "outputs": []
    },
    {
      "cell_type": "code",
      "metadata": {
        "id": "q6i9tDBmyGYJ",
        "colab_type": "code",
        "colab": {}
      },
      "source": [
        "model = BERThoven(cls=True, dropout=False, concat_outputs=False)\n",
        "check_accuracy(data_loader_dev, model, device=device, preprocessor=score_preprocessor);\n",
        "# Get a baseline for the model's metrics before any training\n",
        "\n",
        "warmup_proportion = 0.1\n",
        "\n",
        "delta = 0.1 # Smooth l1 switches between L1 and MSE at delta\n",
        "loss_function = lambda x, y: F.smooth_l1_loss(x/delta, y/delta)*delta\n",
        "\n",
        "training_steps = 0\n",
        "training_steps += len(data_loader_train_upsampled)\n",
        "training_steps += len(data_loader_train_masked)\n",
        "training_steps += len(data_loader_train)\n",
        "\n",
        "warmup_steps = int(training_steps*warmup_proportion)\n",
        "\n",
        "optimizer = AdamW(model.parameters(), lr=2e-5, eps=1e-8, correct_bias=True, weight_decay=0.1)\n",
        "scheduler = get_linear_schedule_with_warmup(optimizer, num_warmup_steps=warmup_steps, num_training_steps=training_steps)\n",
        "\n",
        "def train(data_loader, epochs):\n",
        "  return train_part(model, data_loader, optimizer, scheduler,  val_loader=data_loader_dev, epochs=epochs, \n",
        "             val_every = 3,return_losses=True, preprocessor=score_preprocessor,\n",
        "             print_every=60, loss_function=loss_function, return_metrics=False,device=device)\n",
        "\n",
        "# Train for 1 epoch on each data loader.\n",
        "\n",
        "train(data_loader_train_upsampled, epochs=1);\n",
        "train(data_loader_train_masked, epochs=1);\n",
        "train(data_loader_train, epochs=1);"
      ],
      "execution_count": 0,
      "outputs": []
    },
    {
      "cell_type": "code",
      "metadata": {
        "id": "QM2bQidlkmgP",
        "colab_type": "code",
        "colab": {}
      },
      "source": [
        "# Get the test labels\n",
        "scores = get_test_labels(data_loader_test,model, device, preprocessor=score_preprocessor)\n",
        "\n",
        "# Save them to a file\n",
        "writeScores(scores)"
      ],
      "execution_count": 0,
      "outputs": []
    }
  ]
}